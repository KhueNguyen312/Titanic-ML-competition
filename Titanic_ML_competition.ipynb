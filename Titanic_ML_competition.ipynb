{
  "nbformat": 4,
  "nbformat_minor": 0,
  "metadata": {
    "colab": {
      "name": "Titanic ML competition.ipynb",
      "provenance": []
    },
    "kernelspec": {
      "name": "python3",
      "display_name": "Python 3"
    },
    "language_info": {
      "name": "python"
    }
  },
  "cells": [
    {
      "cell_type": "code",
      "metadata": {
        "id": "ABrLK_PYPOLR"
      },
      "source": [
        "import numpy as np\n",
        "import pandas as pd\n",
        "import matplotlib.pyplot as plt\n",
        "\n",
        "from sklearn.preprocessing import OneHotEncoder, OrdinalEncoder\n",
        "from sklearn.compose import make_column_transformer\n",
        "from sklearn.naive_bayes import BernoulliNB\n",
        "from sklearn.pipeline import make_pipeline\n",
        "from sklearn.metrics import accuracy_score\n",
        "from sklearn import svm\n",
        "\n",
        "from sklearn.neural_network import MLPClassifier\n",
        "from sklearn.metrics import classification_report"
      ],
      "execution_count": 1,
      "outputs": []
    },
    {
      "cell_type": "code",
      "metadata": {
        "id": "7HSYm8lPQWLn"
      },
      "source": [
        "df = pd.read_csv('/content/drive/MyDrive/Colab Notebooks/Dataset/Titanic dataset/train.csv')"
      ],
      "execution_count": 85,
      "outputs": []
    },
    {
      "cell_type": "code",
      "metadata": {
        "id": "6aaGJEZTRTf-"
      },
      "source": [
        "def group_age_range(data):\n",
        "  age = data['Age']\n",
        "  if 0 < age <= 16:\n",
        "    return 'child'\n",
        "  elif 16 < age <= 30 or pd.isna(age):\n",
        "    return 'young adult'\n",
        "  elif 30 < age <= 45:\n",
        "    return 'middle aged adult'\n",
        "  else:\n",
        "    return 'old aged adult'"
      ],
      "execution_count": 86,
      "outputs": []
    },
    {
      "cell_type": "code",
      "metadata": {
        "id": "mbRqxxJ-OmhW"
      },
      "source": [
        "def fillMissingAgeValueByNameTitles(X):\n",
        "    X['Initial']=0\n",
        "    for i in X:\n",
        "        X['Initial']= X.Name.str.extract('([A-Za-z]+)\\.') # name title initial\n",
        "        \n",
        "    X['Initial'].replace(['Mlle','Mme','Ms','Dr','Major','Lady','Countess','Jonkheer','Col','Rev','Capt','Sir','Don', 'Dona'],\n",
        "                        ['Miss','Miss','Miss','Mr','Mr','Mrs','Mrs','Other','Other','Other','Mr','Mr','Mr', 'Mr'],inplace=True)\n",
        "    \n",
        "    X.loc[(X.Age.isnull())&(X.Initial=='Mr'),'Age']=33\n",
        "    X.loc[(X.Age.isnull())&(X.Initial=='Mrs'),'Age']=37\n",
        "    X.loc[(X.Age.isnull())&(X.Initial=='Master'),'Age']=5\n",
        "    X.loc[(X.Age.isnull())&(X.Initial=='Miss'),'Age']=22\n",
        "    X.loc[(X.Age.isnull())&(X.Initial=='Other'),'Age']=46\n",
        "    \n",
        "fillMissingAgeValueByNameTitles(df)"
      ],
      "execution_count": 87,
      "outputs": []
    },
    {
      "cell_type": "code",
      "metadata": {
        "id": "7bWfrVRLYYlB"
      },
      "source": [
        "df['Age_group'] = df.apply(group_age_range,1)"
      ],
      "execution_count": 88,
      "outputs": []
    },
    {
      "cell_type": "code",
      "metadata": {
        "id": "fhMOUa3No2De"
      },
      "source": [
        "df['Family_Size']=df['SibSp']+df['Parch']"
      ],
      "execution_count": 89,
      "outputs": []
    },
    {
      "cell_type": "code",
      "metadata": {
        "id": "bm6G-gKBmfff"
      },
      "source": [
        "df['Embarked'] = df['Embarked'].fillna(df['Embarked'].value_counts().idxmax())"
      ],
      "execution_count": 90,
      "outputs": []
    },
    {
      "cell_type": "code",
      "metadata": {
        "colab": {
          "base_uri": "https://localhost:8080/"
        },
        "id": "2jFk4VhGp0_D",
        "outputId": "6824a991-dff5-4055-a4c2-4396e387d8da"
      },
      "source": [
        "df.info()"
      ],
      "execution_count": 91,
      "outputs": [
        {
          "output_type": "stream",
          "name": "stdout",
          "text": [
            "<class 'pandas.core.frame.DataFrame'>\n",
            "RangeIndex: 891 entries, 0 to 890\n",
            "Data columns (total 15 columns):\n",
            " #   Column       Non-Null Count  Dtype  \n",
            "---  ------       --------------  -----  \n",
            " 0   PassengerId  891 non-null    int64  \n",
            " 1   Survived     891 non-null    int64  \n",
            " 2   Pclass       891 non-null    int64  \n",
            " 3   Name         891 non-null    object \n",
            " 4   Sex          891 non-null    object \n",
            " 5   Age          891 non-null    float64\n",
            " 6   SibSp        891 non-null    int64  \n",
            " 7   Parch        891 non-null    int64  \n",
            " 8   Ticket       891 non-null    object \n",
            " 9   Fare         891 non-null    float64\n",
            " 10  Cabin        204 non-null    object \n",
            " 11  Embarked     891 non-null    object \n",
            " 12  Initial      891 non-null    object \n",
            " 13  Age_group    891 non-null    object \n",
            " 14  Family_Size  891 non-null    int64  \n",
            "dtypes: float64(2), int64(6), object(7)\n",
            "memory usage: 104.5+ KB\n"
          ]
        }
      ]
    },
    {
      "cell_type": "code",
      "metadata": {
        "colab": {
          "base_uri": "https://localhost:8080/",
          "height": 504
        },
        "id": "oAtREGBcmn6Z",
        "outputId": "1462bc86-c2ac-48b6-d67c-cf18c1140671"
      },
      "source": [
        "df.head()"
      ],
      "execution_count": 92,
      "outputs": [
        {
          "output_type": "execute_result",
          "data": {
            "text/html": [
              "<div>\n",
              "<style scoped>\n",
              "    .dataframe tbody tr th:only-of-type {\n",
              "        vertical-align: middle;\n",
              "    }\n",
              "\n",
              "    .dataframe tbody tr th {\n",
              "        vertical-align: top;\n",
              "    }\n",
              "\n",
              "    .dataframe thead th {\n",
              "        text-align: right;\n",
              "    }\n",
              "</style>\n",
              "<table border=\"1\" class=\"dataframe\">\n",
              "  <thead>\n",
              "    <tr style=\"text-align: right;\">\n",
              "      <th></th>\n",
              "      <th>PassengerId</th>\n",
              "      <th>Survived</th>\n",
              "      <th>Pclass</th>\n",
              "      <th>Name</th>\n",
              "      <th>Sex</th>\n",
              "      <th>Age</th>\n",
              "      <th>SibSp</th>\n",
              "      <th>Parch</th>\n",
              "      <th>Ticket</th>\n",
              "      <th>Fare</th>\n",
              "      <th>Cabin</th>\n",
              "      <th>Embarked</th>\n",
              "      <th>Initial</th>\n",
              "      <th>Age_group</th>\n",
              "      <th>Family_Size</th>\n",
              "    </tr>\n",
              "  </thead>\n",
              "  <tbody>\n",
              "    <tr>\n",
              "      <th>0</th>\n",
              "      <td>1</td>\n",
              "      <td>0</td>\n",
              "      <td>3</td>\n",
              "      <td>Braund, Mr. Owen Harris</td>\n",
              "      <td>male</td>\n",
              "      <td>22.0</td>\n",
              "      <td>1</td>\n",
              "      <td>0</td>\n",
              "      <td>A/5 21171</td>\n",
              "      <td>7.2500</td>\n",
              "      <td>NaN</td>\n",
              "      <td>S</td>\n",
              "      <td>Mr</td>\n",
              "      <td>young adult</td>\n",
              "      <td>1</td>\n",
              "    </tr>\n",
              "    <tr>\n",
              "      <th>1</th>\n",
              "      <td>2</td>\n",
              "      <td>1</td>\n",
              "      <td>1</td>\n",
              "      <td>Cumings, Mrs. John Bradley (Florence Briggs Th...</td>\n",
              "      <td>female</td>\n",
              "      <td>38.0</td>\n",
              "      <td>1</td>\n",
              "      <td>0</td>\n",
              "      <td>PC 17599</td>\n",
              "      <td>71.2833</td>\n",
              "      <td>C85</td>\n",
              "      <td>C</td>\n",
              "      <td>Mrs</td>\n",
              "      <td>middle aged adult</td>\n",
              "      <td>1</td>\n",
              "    </tr>\n",
              "    <tr>\n",
              "      <th>2</th>\n",
              "      <td>3</td>\n",
              "      <td>1</td>\n",
              "      <td>3</td>\n",
              "      <td>Heikkinen, Miss. Laina</td>\n",
              "      <td>female</td>\n",
              "      <td>26.0</td>\n",
              "      <td>0</td>\n",
              "      <td>0</td>\n",
              "      <td>STON/O2. 3101282</td>\n",
              "      <td>7.9250</td>\n",
              "      <td>NaN</td>\n",
              "      <td>S</td>\n",
              "      <td>Miss</td>\n",
              "      <td>young adult</td>\n",
              "      <td>0</td>\n",
              "    </tr>\n",
              "    <tr>\n",
              "      <th>3</th>\n",
              "      <td>4</td>\n",
              "      <td>1</td>\n",
              "      <td>1</td>\n",
              "      <td>Futrelle, Mrs. Jacques Heath (Lily May Peel)</td>\n",
              "      <td>female</td>\n",
              "      <td>35.0</td>\n",
              "      <td>1</td>\n",
              "      <td>0</td>\n",
              "      <td>113803</td>\n",
              "      <td>53.1000</td>\n",
              "      <td>C123</td>\n",
              "      <td>S</td>\n",
              "      <td>Mrs</td>\n",
              "      <td>middle aged adult</td>\n",
              "      <td>1</td>\n",
              "    </tr>\n",
              "    <tr>\n",
              "      <th>4</th>\n",
              "      <td>5</td>\n",
              "      <td>0</td>\n",
              "      <td>3</td>\n",
              "      <td>Allen, Mr. William Henry</td>\n",
              "      <td>male</td>\n",
              "      <td>35.0</td>\n",
              "      <td>0</td>\n",
              "      <td>0</td>\n",
              "      <td>373450</td>\n",
              "      <td>8.0500</td>\n",
              "      <td>NaN</td>\n",
              "      <td>S</td>\n",
              "      <td>Mr</td>\n",
              "      <td>middle aged adult</td>\n",
              "      <td>0</td>\n",
              "    </tr>\n",
              "  </tbody>\n",
              "</table>\n",
              "</div>"
            ],
            "text/plain": [
              "   PassengerId  Survived  Pclass  ... Initial          Age_group  Family_Size\n",
              "0            1         0       3  ...      Mr        young adult            1\n",
              "1            2         1       1  ...     Mrs  middle aged adult            1\n",
              "2            3         1       3  ...    Miss        young adult            0\n",
              "3            4         1       1  ...     Mrs  middle aged adult            1\n",
              "4            5         0       3  ...      Mr  middle aged adult            0\n",
              "\n",
              "[5 rows x 15 columns]"
            ]
          },
          "metadata": {},
          "execution_count": 92
        }
      ]
    },
    {
      "cell_type": "code",
      "metadata": {
        "colab": {
          "base_uri": "https://localhost:8080/"
        },
        "id": "Wlw-myR-5ZOi",
        "outputId": "e164fd10-71cd-4f20-bb2c-83216300dd45"
      },
      "source": [
        "df[df['Survived'] == 1].groupby(['Sex'])['Survived'].count()"
      ],
      "execution_count": 7,
      "outputs": [
        {
          "output_type": "execute_result",
          "data": {
            "text/plain": [
              "Sex\n",
              "female    233\n",
              "male      109\n",
              "Name: Survived, dtype: int64"
            ]
          },
          "metadata": {},
          "execution_count": 7
        }
      ]
    },
    {
      "cell_type": "code",
      "metadata": {
        "colab": {
          "base_uri": "https://localhost:8080/"
        },
        "id": "h8ZV3pin-iVV",
        "outputId": "2fe9f9c2-00cb-4d95-db35-b0dff2987387"
      },
      "source": [
        "woman_rate = df['Sex'][df['Sex'] == 'female'][df['Survived'] == 1].count()/df['Sex'][df['Sex'] == 'female'].count()\n",
        "print('Survival rate of woman: ', woman_rate) \n",
        "man_rate = df['Sex'][df['Sex'] == 'male'][df['Survived'] == 1].count()/df['Sex'][df['Sex'] == 'male'].count()\n",
        "print('Survival rate of man: ', man_rate)"
      ],
      "execution_count": 8,
      "outputs": [
        {
          "output_type": "stream",
          "name": "stdout",
          "text": [
            "Survival rate of woman:  0.7420382165605095\n",
            "Survival rate of man:  0.18890814558058924\n"
          ]
        }
      ]
    },
    {
      "cell_type": "code",
      "metadata": {
        "colab": {
          "base_uri": "https://localhost:8080/",
          "height": 269
        },
        "id": "jkjGNAD4TtZc",
        "outputId": "bc9aa6a5-2c08-4503-8980-84869540d754"
      },
      "source": [
        "def func(group):\n",
        "    num_survival = group['Survived'].sum()\n",
        "    total = group['Survived'].count()\n",
        "    survival_rate = group['Survived'].sum()/group['Survived'].count()\n",
        "    return pd.Series([num_survival, total, survival_rate], index=['num_survival', 'total' ,'survival_rate'])\n",
        "\n",
        "df.groupby(['Sex','Pclass']).apply(func)"
      ],
      "execution_count": 9,
      "outputs": [
        {
          "output_type": "execute_result",
          "data": {
            "text/html": [
              "<div>\n",
              "<style scoped>\n",
              "    .dataframe tbody tr th:only-of-type {\n",
              "        vertical-align: middle;\n",
              "    }\n",
              "\n",
              "    .dataframe tbody tr th {\n",
              "        vertical-align: top;\n",
              "    }\n",
              "\n",
              "    .dataframe thead th {\n",
              "        text-align: right;\n",
              "    }\n",
              "</style>\n",
              "<table border=\"1\" class=\"dataframe\">\n",
              "  <thead>\n",
              "    <tr style=\"text-align: right;\">\n",
              "      <th></th>\n",
              "      <th></th>\n",
              "      <th>num_survival</th>\n",
              "      <th>total</th>\n",
              "      <th>survival_rate</th>\n",
              "    </tr>\n",
              "    <tr>\n",
              "      <th>Sex</th>\n",
              "      <th>Pclass</th>\n",
              "      <th></th>\n",
              "      <th></th>\n",
              "      <th></th>\n",
              "    </tr>\n",
              "  </thead>\n",
              "  <tbody>\n",
              "    <tr>\n",
              "      <th rowspan=\"3\" valign=\"top\">female</th>\n",
              "      <th>1</th>\n",
              "      <td>91.0</td>\n",
              "      <td>94.0</td>\n",
              "      <td>0.968085</td>\n",
              "    </tr>\n",
              "    <tr>\n",
              "      <th>2</th>\n",
              "      <td>70.0</td>\n",
              "      <td>76.0</td>\n",
              "      <td>0.921053</td>\n",
              "    </tr>\n",
              "    <tr>\n",
              "      <th>3</th>\n",
              "      <td>72.0</td>\n",
              "      <td>144.0</td>\n",
              "      <td>0.500000</td>\n",
              "    </tr>\n",
              "    <tr>\n",
              "      <th rowspan=\"3\" valign=\"top\">male</th>\n",
              "      <th>1</th>\n",
              "      <td>45.0</td>\n",
              "      <td>122.0</td>\n",
              "      <td>0.368852</td>\n",
              "    </tr>\n",
              "    <tr>\n",
              "      <th>2</th>\n",
              "      <td>17.0</td>\n",
              "      <td>108.0</td>\n",
              "      <td>0.157407</td>\n",
              "    </tr>\n",
              "    <tr>\n",
              "      <th>3</th>\n",
              "      <td>47.0</td>\n",
              "      <td>347.0</td>\n",
              "      <td>0.135447</td>\n",
              "    </tr>\n",
              "  </tbody>\n",
              "</table>\n",
              "</div>"
            ],
            "text/plain": [
              "               num_survival  total  survival_rate\n",
              "Sex    Pclass                                    \n",
              "female 1               91.0   94.0       0.968085\n",
              "       2               70.0   76.0       0.921053\n",
              "       3               72.0  144.0       0.500000\n",
              "male   1               45.0  122.0       0.368852\n",
              "       2               17.0  108.0       0.157407\n",
              "       3               47.0  347.0       0.135447"
            ]
          },
          "metadata": {},
          "execution_count": 9
        }
      ]
    },
    {
      "cell_type": "code",
      "metadata": {
        "id": "mVXMmzh1YQJZ"
      },
      "source": [
        "d = df.groupby(['Sex','Age']).apply(func)"
      ],
      "execution_count": 17,
      "outputs": []
    },
    {
      "cell_type": "code",
      "metadata": {
        "colab": {
          "base_uri": "https://localhost:8080/",
          "height": 282
        },
        "id": "4Ho1-hv6yBKX",
        "outputId": "6850f9e5-a0fd-453c-c2ec-7b2929e9363c"
      },
      "source": [
        "plt.figure();\n",
        "d.plot.hist(alpha=0.5);"
      ],
      "execution_count": 11,
      "outputs": [
        {
          "output_type": "display_data",
          "data": {
            "text/plain": [
              "<Figure size 432x288 with 0 Axes>"
            ]
          },
          "metadata": {}
        },
        {
          "output_type": "display_data",
          "data": {
            "image/png": "[encoded data removed]",
            "text/plain": [
              "<Figure size 432x288 with 1 Axes>"
            ]
          },
          "metadata": {
            "needs_background": "light"
          }
        }
      ]
    },
    {
      "cell_type": "code",
      "metadata": {
        "id": "nufCeMj5U8S4"
      },
      "source": [
        "age_fare = df[['Age','Fare','Pclass']]"
      ],
      "execution_count": 29,
      "outputs": []
    },
    {
      "cell_type": "code",
      "metadata": {
        "colab": {
          "base_uri": "https://localhost:8080/",
          "height": 424
        },
        "id": "-WhRTuxLWJtn",
        "outputId": "130372ba-1f45-4bff-f38c-78a5575fdaa0"
      },
      "source": [
        "x"
      ],
      "execution_count": 32,
      "outputs": [
        {
          "output_type": "execute_result",
          "data": {
            "text/html": [
              "<div>\n",
              "<style scoped>\n",
              "    .dataframe tbody tr th:only-of-type {\n",
              "        vertical-align: middle;\n",
              "    }\n",
              "\n",
              "    .dataframe tbody tr th {\n",
              "        vertical-align: top;\n",
              "    }\n",
              "\n",
              "    .dataframe thead th {\n",
              "        text-align: right;\n",
              "    }\n",
              "</style>\n",
              "<table border=\"1\" class=\"dataframe\">\n",
              "  <thead>\n",
              "    <tr style=\"text-align: right;\">\n",
              "      <th></th>\n",
              "      <th>Age</th>\n",
              "      <th>Fare</th>\n",
              "      <th>Pclass</th>\n",
              "    </tr>\n",
              "  </thead>\n",
              "  <tbody>\n",
              "    <tr>\n",
              "      <th>803</th>\n",
              "      <td>0.42</td>\n",
              "      <td>8.5167</td>\n",
              "      <td>3</td>\n",
              "    </tr>\n",
              "    <tr>\n",
              "      <th>755</th>\n",
              "      <td>0.67</td>\n",
              "      <td>14.5000</td>\n",
              "      <td>2</td>\n",
              "    </tr>\n",
              "    <tr>\n",
              "      <th>644</th>\n",
              "      <td>0.75</td>\n",
              "      <td>19.2583</td>\n",
              "      <td>3</td>\n",
              "    </tr>\n",
              "    <tr>\n",
              "      <th>469</th>\n",
              "      <td>0.75</td>\n",
              "      <td>19.2583</td>\n",
              "      <td>3</td>\n",
              "    </tr>\n",
              "    <tr>\n",
              "      <th>78</th>\n",
              "      <td>0.83</td>\n",
              "      <td>29.0000</td>\n",
              "      <td>2</td>\n",
              "    </tr>\n",
              "    <tr>\n",
              "      <th>...</th>\n",
              "      <td>...</td>\n",
              "      <td>...</td>\n",
              "      <td>...</td>\n",
              "    </tr>\n",
              "    <tr>\n",
              "      <th>859</th>\n",
              "      <td>NaN</td>\n",
              "      <td>7.2292</td>\n",
              "      <td>3</td>\n",
              "    </tr>\n",
              "    <tr>\n",
              "      <th>863</th>\n",
              "      <td>NaN</td>\n",
              "      <td>69.5500</td>\n",
              "      <td>3</td>\n",
              "    </tr>\n",
              "    <tr>\n",
              "      <th>868</th>\n",
              "      <td>NaN</td>\n",
              "      <td>9.5000</td>\n",
              "      <td>3</td>\n",
              "    </tr>\n",
              "    <tr>\n",
              "      <th>878</th>\n",
              "      <td>NaN</td>\n",
              "      <td>7.8958</td>\n",
              "      <td>3</td>\n",
              "    </tr>\n",
              "    <tr>\n",
              "      <th>888</th>\n",
              "      <td>NaN</td>\n",
              "      <td>23.4500</td>\n",
              "      <td>3</td>\n",
              "    </tr>\n",
              "  </tbody>\n",
              "</table>\n",
              "<p>891 rows × 3 columns</p>\n",
              "</div>"
            ],
            "text/plain": [
              "      Age     Fare  Pclass\n",
              "803  0.42   8.5167       3\n",
              "755  0.67  14.5000       2\n",
              "644  0.75  19.2583       3\n",
              "469  0.75  19.2583       3\n",
              "78   0.83  29.0000       2\n",
              "..    ...      ...     ...\n",
              "859   NaN   7.2292       3\n",
              "863   NaN  69.5500       3\n",
              "868   NaN   9.5000       3\n",
              "878   NaN   7.8958       3\n",
              "888   NaN  23.4500       3\n",
              "\n",
              "[891 rows x 3 columns]"
            ]
          },
          "metadata": {},
          "execution_count": 32
        }
      ]
    },
    {
      "cell_type": "code",
      "metadata": {
        "id": "5J2K1R7NTqKv"
      },
      "source": [
        "x = age_fare.sort_values(by=['Age'])"
      ],
      "execution_count": 30,
      "outputs": []
    },
    {
      "cell_type": "code",
      "metadata": {
        "colab": {
          "base_uri": "https://localhost:8080/",
          "height": 296
        },
        "id": "tIZVdo1tR_Op",
        "outputId": "f155be39-fb60-4bcb-fba1-235e2975f1df"
      },
      "source": [
        "x.plot.line(x = 'Age',y = 'Fare')"
      ],
      "execution_count": 31,
      "outputs": [
        {
          "output_type": "execute_result",
          "data": {
            "text/plain": [
              "<matplotlib.axes._subplots.AxesSubplot at 0x7fb89cec2c50>"
            ]
          },
          "metadata": {},
          "execution_count": 31
        },
        {
          "output_type": "display_data",
          "data": {
            "image/png": "[encoded data removed]",
            "text/plain": [
              "<Figure size 432x288 with 1 Axes>"
            ]
          },
          "metadata": {
            "needs_background": "light"
          }
        }
      ]
    },
    {
      "cell_type": "code",
      "metadata": {
        "id": "lSlx7I8biWMW"
      },
      "source": [
        "# column_transform = make_column_transformer((OneHotEncoder(),['Sex','Age_group']),\n",
        "#                                            (OrdinalEncoder(),['Family_Size','Pclass']))\n",
        "column_transform = make_column_transformer((OneHotEncoder(),['Sex','Age_group','Embarked']),\n",
        "                                           (OrdinalEncoder(),['Parch','SibSp','Pclass']))\n",
        "X = column_transform.fit_transform(df)"
      ],
      "execution_count": 231,
      "outputs": []
    },
    {
      "cell_type": "code",
      "metadata": {
        "id": "0ffMlHGFqzJb"
      },
      "source": [
        "Y = df['Survived'].values"
      ],
      "execution_count": 232,
      "outputs": []
    },
    {
      "cell_type": "code",
      "metadata": {
        "colab": {
          "base_uri": "https://localhost:8080/"
        },
        "id": "Zf0wXGVZpRFB",
        "outputId": "2e87bbd5-484f-43fc-aa67-dd4a56354a45"
      },
      "source": [
        "X.shape"
      ],
      "execution_count": 233,
      "outputs": [
        {
          "output_type": "execute_result",
          "data": {
            "text/plain": [
              "(891, 12)"
            ]
          },
          "metadata": {},
          "execution_count": 233
        }
      ]
    },
    {
      "cell_type": "markdown",
      "metadata": {
        "id": "ntq4PBpFHfX8"
      },
      "source": [
        "Naive Bayes\n"
      ]
    },
    {
      "cell_type": "code",
      "metadata": {
        "id": "zov2zdh4rJrU"
      },
      "source": [
        "NB = BernoulliNB()\n",
        "NB_pipeline = make_pipeline(column_transform, NB)"
      ],
      "execution_count": 130,
      "outputs": []
    },
    {
      "cell_type": "code",
      "metadata": {
        "colab": {
          "base_uri": "https://localhost:8080/"
        },
        "id": "EP8MM7qNsNPD",
        "outputId": "29f31321-70d6-46ad-d7dd-a642276ce065"
      },
      "source": [
        "NB.fit(X,Y)"
      ],
      "execution_count": 137,
      "outputs": [
        {
          "output_type": "execute_result",
          "data": {
            "text/plain": [
              "BernoulliNB(alpha=1.0, binarize=0.0, class_prior=None, fit_prior=True)"
            ]
          },
          "metadata": {},
          "execution_count": 137
        }
      ]
    },
    {
      "cell_type": "code",
      "metadata": {
        "id": "G5jBBvdPwDn4"
      },
      "source": [
        "pr = NB.predict(X)"
      ],
      "execution_count": 138,
      "outputs": []
    },
    {
      "cell_type": "code",
      "metadata": {
        "id": "qzcPSZpauk2l",
        "colab": {
          "base_uri": "https://localhost:8080/"
        },
        "outputId": "391a12ac-ad6c-4dde-d540-6cf1e4fa45e5"
      },
      "source": [
        "accuracy_score(Y, pr)"
      ],
      "execution_count": 139,
      "outputs": [
        {
          "output_type": "execute_result",
          "data": {
            "text/plain": [
              "0.7845117845117845"
            ]
          },
          "metadata": {},
          "execution_count": 139
        }
      ]
    },
    {
      "cell_type": "markdown",
      "metadata": {
        "id": "ato4PjJ1Hnu1"
      },
      "source": [
        "Support Vector Machine"
      ]
    },
    {
      "cell_type": "code",
      "metadata": {
        "colab": {
          "base_uri": "https://localhost:8080/"
        },
        "id": "fGM1ziNMEMcv",
        "outputId": "b1fd1cb9-0e26-4eb3-8027-3782116d8cea"
      },
      "source": [
        "SVM = svm.SVC()\n",
        "SVM.fit(X,Y)"
      ],
      "execution_count": 234,
      "outputs": [
        {
          "output_type": "execute_result",
          "data": {
            "text/plain": [
              "SVC(C=1.0, break_ties=False, cache_size=200, class_weight=None, coef0=0.0,\n",
              "    decision_function_shape='ovr', degree=3, gamma='scale', kernel='rbf',\n",
              "    max_iter=-1, probability=False, random_state=None, shrinking=True,\n",
              "    tol=0.001, verbose=False)"
            ]
          },
          "metadata": {},
          "execution_count": 234
        }
      ]
    },
    {
      "cell_type": "code",
      "metadata": {
        "colab": {
          "base_uri": "https://localhost:8080/"
        },
        "id": "Asg8NC1nErOQ",
        "outputId": "cce9e7a8-add7-4105-b9be-cd81a93c3a96"
      },
      "source": [
        "pr = SVM.predict(X)\n",
        "accuracy_score(Y, pr)"
      ],
      "execution_count": 235,
      "outputs": [
        {
          "output_type": "execute_result",
          "data": {
            "text/plain": [
              "0.8406285072951739"
            ]
          },
          "metadata": {},
          "execution_count": 235
        }
      ]
    },
    {
      "cell_type": "code",
      "metadata": {
        "colab": {
          "base_uri": "https://localhost:8080/"
        },
        "id": "7hSHbo25R51Z",
        "outputId": "526dad18-ca2b-4f5e-980e-bc0557ac46f2"
      },
      "source": [
        "from sklearn.ensemble import RandomForestClassifier\n",
        "model = RandomForestClassifier(n_estimators=100, max_depth=3, random_state=2)\n",
        "model.fit(X,Y)"
      ],
      "execution_count": 142,
      "outputs": [
        {
          "output_type": "execute_result",
          "data": {
            "text/plain": [
              "RandomForestClassifier(bootstrap=True, ccp_alpha=0.0, class_weight=None,\n",
              "                       criterion='gini', max_depth=3, max_features='auto',\n",
              "                       max_leaf_nodes=None, max_samples=None,\n",
              "                       min_impurity_decrease=0.0, min_impurity_split=None,\n",
              "                       min_samples_leaf=1, min_samples_split=2,\n",
              "                       min_weight_fraction_leaf=0.0, n_estimators=100,\n",
              "                       n_jobs=None, oob_score=False, random_state=2, verbose=0,\n",
              "                       warm_start=False)"
            ]
          },
          "metadata": {},
          "execution_count": 142
        }
      ]
    },
    {
      "cell_type": "code",
      "metadata": {
        "colab": {
          "base_uri": "https://localhost:8080/"
        },
        "id": "pIhLqvOwSDwI",
        "outputId": "a892d05b-8197-48da-c218-bf8a3004eaa5"
      },
      "source": [
        "pr = model.predict(X)\n",
        "print(classification_report(Y, pr))"
      ],
      "execution_count": 143,
      "outputs": [
        {
          "output_type": "stream",
          "name": "stdout",
          "text": [
            "              precision    recall  f1-score   support\n",
            "\n",
            "           0       0.81      0.89      0.85       549\n",
            "           1       0.79      0.67      0.73       342\n",
            "\n",
            "    accuracy                           0.81       891\n",
            "   macro avg       0.80      0.78      0.79       891\n",
            "weighted avg       0.81      0.81      0.80       891\n",
            "\n"
          ]
        }
      ]
    },
    {
      "cell_type": "markdown",
      "metadata": {
        "id": "Z5y1NRUhJwVH"
      },
      "source": [
        "Multilayer Perceptron "
      ]
    },
    {
      "cell_type": "code",
      "metadata": {
        "colab": {
          "base_uri": "https://localhost:8080/"
        },
        "id": "c3srn2BzJ_YG",
        "outputId": "2f550a31-2572-4094-dc92-8053de14077e"
      },
      "source": [
        "MLP = MLPClassifier(max_iter=500,hidden_layer_sizes=(128,128,128))\n",
        "MLP.fit(X,Y)"
      ],
      "execution_count": 144,
      "outputs": [
        {
          "output_type": "execute_result",
          "data": {
            "text/plain": [
              "MLPClassifier(activation='relu', alpha=0.0001, batch_size='auto', beta_1=0.9,\n",
              "              beta_2=0.999, early_stopping=False, epsilon=1e-08,\n",
              "              hidden_layer_sizes=(128, 128, 128), learning_rate='constant',\n",
              "              learning_rate_init=0.001, max_fun=15000, max_iter=500,\n",
              "              momentum=0.9, n_iter_no_change=10, nesterovs_momentum=True,\n",
              "              power_t=0.5, random_state=None, shuffle=True, solver='adam',\n",
              "              tol=0.0001, validation_fraction=0.1, verbose=False,\n",
              "              warm_start=False)"
            ]
          },
          "metadata": {},
          "execution_count": 144
        }
      ]
    },
    {
      "cell_type": "code",
      "metadata": {
        "colab": {
          "base_uri": "https://localhost:8080/"
        },
        "id": "XvlCuOZNMB6G",
        "outputId": "3a59015d-2b9c-4c79-f2be-cd2d26c62616"
      },
      "source": [
        "pr = MLP.predict(X)\n",
        "accuracy_score(Y, pr)"
      ],
      "execution_count": 145,
      "outputs": [
        {
          "output_type": "execute_result",
          "data": {
            "text/plain": [
              "0.8630751964085297"
            ]
          },
          "metadata": {},
          "execution_count": 145
        }
      ]
    },
    {
      "cell_type": "code",
      "metadata": {
        "colab": {
          "base_uri": "https://localhost:8080/"
        },
        "id": "3ma45ubJMjLU",
        "outputId": "59ebb9d9-3f93-4bcc-f0aa-69b213916a41"
      },
      "source": [
        "print(classification_report(Y, pr))"
      ],
      "execution_count": 146,
      "outputs": [
        {
          "output_type": "stream",
          "name": "stdout",
          "text": [
            "              precision    recall  f1-score   support\n",
            "\n",
            "           0       0.84      0.95      0.90       549\n",
            "           1       0.91      0.72      0.80       342\n",
            "\n",
            "    accuracy                           0.86       891\n",
            "   macro avg       0.88      0.84      0.85       891\n",
            "weighted avg       0.87      0.86      0.86       891\n",
            "\n"
          ]
        }
      ]
    },
    {
      "cell_type": "markdown",
      "metadata": {
        "id": "sgg3z0XpxDaJ"
      },
      "source": [
        "KERAS Deep Neural network"
      ]
    },
    {
      "cell_type": "code",
      "metadata": {
        "id": "oN9n49IzxJAD"
      },
      "source": [
        "from keras.models import Sequential\n",
        "from keras.layers import Dense\n",
        "from keras.layers import Dropout"
      ],
      "execution_count": 192,
      "outputs": []
    },
    {
      "cell_type": "code",
      "metadata": {
        "colab": {
          "base_uri": "https://localhost:8080/"
        },
        "id": "vlYiMgOZxPJu",
        "outputId": "e0f0afb0-a00d-475c-c48c-36ef9605e22c"
      },
      "source": [
        "model = Sequential()\n",
        "model.add(Dense(128, input_dim=11, activation=\"relu\"))\n",
        "model.add(Dropout(0.3)) \n",
        "model.add(Dense(128, activation=\"relu\"))\n",
        "model.add(Dropout(0.3))  \n",
        "model.add(Dense(128, activation=\"relu\")) \n",
        "model.add(Dense(1, activation=\"sigmoid\"))\n",
        "model.compile(\n",
        "  loss=\"binary_crossentropy\",\n",
        "  optimizer='adam',\n",
        "  metrics=['accuracy'])\n",
        "model.summary()"
      ],
      "execution_count": 198,
      "outputs": [
        {
          "output_type": "stream",
          "name": "stdout",
          "text": [
            "Model: \"sequential_13\"\n",
            "_________________________________________________________________\n",
            "Layer (type)                 Output Shape              Param #   \n",
            "=================================================================\n",
            "dense_56 (Dense)             (None, 128)               1536      \n",
            "_________________________________________________________________\n",
            "dropout_4 (Dropout)          (None, 128)               0         \n",
            "_________________________________________________________________\n",
            "dense_57 (Dense)             (None, 128)               16512     \n",
            "_________________________________________________________________\n",
            "dropout_5 (Dropout)          (None, 128)               0         \n",
            "_________________________________________________________________\n",
            "dense_58 (Dense)             (None, 128)               16512     \n",
            "_________________________________________________________________\n",
            "dense_59 (Dense)             (None, 1)                 129       \n",
            "=================================================================\n",
            "Total params: 34,689\n",
            "Trainable params: 34,689\n",
            "Non-trainable params: 0\n",
            "_________________________________________________________________\n"
          ]
        }
      ]
    },
    {
      "cell_type": "code",
      "metadata": {
        "colab": {
          "base_uri": "https://localhost:8080/"
        },
        "id": "BCOvPPUnzYec",
        "outputId": "9c00741c-f2c0-4a25-d00c-9031dacdb623"
      },
      "source": [
        "# fit the keras model on the dataset\n",
        "model.fit(X,Y, epochs=150)"
      ],
      "execution_count": 199,
      "outputs": [
        {
          "output_type": "stream",
          "name": "stdout",
          "text": [
            "Epoch 1/150\n",
            "28/28 [==============================] - 1s 2ms/step - loss: 0.6193 - accuracy: 0.6566\n",
            "Epoch 2/150\n",
            "28/28 [==============================] - 0s 2ms/step - loss: 0.5018 - accuracy: 0.7778\n",
            "Epoch 3/150\n",
            "28/28 [==============================] - 0s 2ms/step - loss: 0.4687 - accuracy: 0.8002\n",
            "Epoch 4/150\n",
            "28/28 [==============================] - 0s 2ms/step - loss: 0.4616 - accuracy: 0.7856\n",
            "Epoch 5/150\n",
            "28/28 [==============================] - 0s 3ms/step - loss: 0.4523 - accuracy: 0.8103\n",
            "Epoch 6/150\n",
            "28/28 [==============================] - 0s 3ms/step - loss: 0.4352 - accuracy: 0.8103\n",
            "Epoch 7/150\n",
            "28/28 [==============================] - 0s 2ms/step - loss: 0.4326 - accuracy: 0.8171\n",
            "Epoch 8/150\n",
            "28/28 [==============================] - 0s 2ms/step - loss: 0.4357 - accuracy: 0.8171\n",
            "Epoch 9/150\n",
            "28/28 [==============================] - 0s 2ms/step - loss: 0.4328 - accuracy: 0.8058\n",
            "Epoch 10/150\n",
            "28/28 [==============================] - 0s 2ms/step - loss: 0.4236 - accuracy: 0.8215\n",
            "Epoch 11/150\n",
            "28/28 [==============================] - 0s 2ms/step - loss: 0.4261 - accuracy: 0.8058\n",
            "Epoch 12/150\n",
            "28/28 [==============================] - 0s 2ms/step - loss: 0.4185 - accuracy: 0.8272\n",
            "Epoch 13/150\n",
            "28/28 [==============================] - 0s 2ms/step - loss: 0.4082 - accuracy: 0.8215\n",
            "Epoch 14/150\n",
            "28/28 [==============================] - 0s 2ms/step - loss: 0.4123 - accuracy: 0.8249\n",
            "Epoch 15/150\n",
            "28/28 [==============================] - 0s 2ms/step - loss: 0.4116 - accuracy: 0.8182\n",
            "Epoch 16/150\n",
            "28/28 [==============================] - 0s 2ms/step - loss: 0.4239 - accuracy: 0.8171\n",
            "Epoch 17/150\n",
            "28/28 [==============================] - 0s 2ms/step - loss: 0.4141 - accuracy: 0.8159\n",
            "Epoch 18/150\n",
            "28/28 [==============================] - 0s 2ms/step - loss: 0.4146 - accuracy: 0.8159\n",
            "Epoch 19/150\n",
            "28/28 [==============================] - 0s 2ms/step - loss: 0.4055 - accuracy: 0.8227\n",
            "Epoch 20/150\n",
            "28/28 [==============================] - 0s 2ms/step - loss: 0.4028 - accuracy: 0.8373\n",
            "Epoch 21/150\n",
            "28/28 [==============================] - 0s 3ms/step - loss: 0.4111 - accuracy: 0.8305\n",
            "Epoch 22/150\n",
            "28/28 [==============================] - 0s 2ms/step - loss: 0.3980 - accuracy: 0.8451\n",
            "Epoch 23/150\n",
            "28/28 [==============================] - 0s 2ms/step - loss: 0.4038 - accuracy: 0.8339\n",
            "Epoch 24/150\n",
            "28/28 [==============================] - 0s 2ms/step - loss: 0.4107 - accuracy: 0.8350\n",
            "Epoch 25/150\n",
            "28/28 [==============================] - 0s 2ms/step - loss: 0.4029 - accuracy: 0.8373\n",
            "Epoch 26/150\n",
            "28/28 [==============================] - 0s 2ms/step - loss: 0.4063 - accuracy: 0.8283\n",
            "Epoch 27/150\n",
            "28/28 [==============================] - 0s 2ms/step - loss: 0.4065 - accuracy: 0.8126\n",
            "Epoch 28/150\n",
            "28/28 [==============================] - 0s 2ms/step - loss: 0.4020 - accuracy: 0.8272\n",
            "Epoch 29/150\n",
            "28/28 [==============================] - 0s 2ms/step - loss: 0.3953 - accuracy: 0.8316\n",
            "Epoch 30/150\n",
            "28/28 [==============================] - 0s 2ms/step - loss: 0.4050 - accuracy: 0.8249\n",
            "Epoch 31/150\n",
            "28/28 [==============================] - 0s 2ms/step - loss: 0.3975 - accuracy: 0.8249\n",
            "Epoch 32/150\n",
            "28/28 [==============================] - 0s 2ms/step - loss: 0.4030 - accuracy: 0.8373\n",
            "Epoch 33/150\n",
            "28/28 [==============================] - 0s 2ms/step - loss: 0.4057 - accuracy: 0.8373\n",
            "Epoch 34/150\n",
            "28/28 [==============================] - 0s 2ms/step - loss: 0.3930 - accuracy: 0.8294\n",
            "Epoch 35/150\n",
            "28/28 [==============================] - 0s 3ms/step - loss: 0.4082 - accuracy: 0.8283\n",
            "Epoch 36/150\n",
            "28/28 [==============================] - 0s 2ms/step - loss: 0.3958 - accuracy: 0.8406\n",
            "Epoch 37/150\n",
            "28/28 [==============================] - 0s 2ms/step - loss: 0.3827 - accuracy: 0.8384\n",
            "Epoch 38/150\n",
            "28/28 [==============================] - 0s 2ms/step - loss: 0.4013 - accuracy: 0.8305\n",
            "Epoch 39/150\n",
            "28/28 [==============================] - 0s 2ms/step - loss: 0.3988 - accuracy: 0.8227\n",
            "Epoch 40/150\n",
            "28/28 [==============================] - 0s 2ms/step - loss: 0.3894 - accuracy: 0.8305\n",
            "Epoch 41/150\n",
            "28/28 [==============================] - 0s 2ms/step - loss: 0.3958 - accuracy: 0.8328\n",
            "Epoch 42/150\n",
            "28/28 [==============================] - 0s 2ms/step - loss: 0.3872 - accuracy: 0.8361\n",
            "Epoch 43/150\n",
            "28/28 [==============================] - 0s 2ms/step - loss: 0.3869 - accuracy: 0.8384\n",
            "Epoch 44/150\n",
            "28/28 [==============================] - 0s 2ms/step - loss: 0.3809 - accuracy: 0.8451\n",
            "Epoch 45/150\n",
            "28/28 [==============================] - 0s 2ms/step - loss: 0.3998 - accuracy: 0.8305\n",
            "Epoch 46/150\n",
            "28/28 [==============================] - 0s 2ms/step - loss: 0.3955 - accuracy: 0.8283\n",
            "Epoch 47/150\n",
            "28/28 [==============================] - 0s 2ms/step - loss: 0.3892 - accuracy: 0.8294\n",
            "Epoch 48/150\n",
            "28/28 [==============================] - 0s 2ms/step - loss: 0.3842 - accuracy: 0.8305\n",
            "Epoch 49/150\n",
            "28/28 [==============================] - 0s 2ms/step - loss: 0.3919 - accuracy: 0.8283\n",
            "Epoch 50/150\n",
            "28/28 [==============================] - 0s 2ms/step - loss: 0.3924 - accuracy: 0.8272\n",
            "Epoch 51/150\n",
            "28/28 [==============================] - 0s 2ms/step - loss: 0.3912 - accuracy: 0.8305\n",
            "Epoch 52/150\n",
            "28/28 [==============================] - 0s 2ms/step - loss: 0.3968 - accuracy: 0.8328\n",
            "Epoch 53/150\n",
            "28/28 [==============================] - 0s 2ms/step - loss: 0.3819 - accuracy: 0.8406\n",
            "Epoch 54/150\n",
            "28/28 [==============================] - 0s 2ms/step - loss: 0.3803 - accuracy: 0.8316\n",
            "Epoch 55/150\n",
            "28/28 [==============================] - 0s 2ms/step - loss: 0.3887 - accuracy: 0.8294\n",
            "Epoch 56/150\n",
            "28/28 [==============================] - 0s 2ms/step - loss: 0.3832 - accuracy: 0.8294\n",
            "Epoch 57/150\n",
            "28/28 [==============================] - 0s 2ms/step - loss: 0.3900 - accuracy: 0.8305\n",
            "Epoch 58/150\n",
            "28/28 [==============================] - 0s 2ms/step - loss: 0.3799 - accuracy: 0.8373\n",
            "Epoch 59/150\n",
            "28/28 [==============================] - 0s 2ms/step - loss: 0.3928 - accuracy: 0.8350\n",
            "Epoch 60/150\n",
            "28/28 [==============================] - 0s 2ms/step - loss: 0.3810 - accuracy: 0.8328\n",
            "Epoch 61/150\n",
            "28/28 [==============================] - 0s 2ms/step - loss: 0.3815 - accuracy: 0.8272\n",
            "Epoch 62/150\n",
            "28/28 [==============================] - 0s 2ms/step - loss: 0.3853 - accuracy: 0.8406\n",
            "Epoch 63/150\n",
            "28/28 [==============================] - 0s 2ms/step - loss: 0.3854 - accuracy: 0.8350\n",
            "Epoch 64/150\n",
            "28/28 [==============================] - 0s 2ms/step - loss: 0.3811 - accuracy: 0.8406\n",
            "Epoch 65/150\n",
            "28/28 [==============================] - 0s 2ms/step - loss: 0.3928 - accuracy: 0.8361\n",
            "Epoch 66/150\n",
            "28/28 [==============================] - 0s 2ms/step - loss: 0.3804 - accuracy: 0.8328\n",
            "Epoch 67/150\n",
            "28/28 [==============================] - 0s 2ms/step - loss: 0.3896 - accuracy: 0.8316\n",
            "Epoch 68/150\n",
            "28/28 [==============================] - 0s 2ms/step - loss: 0.3762 - accuracy: 0.8474\n",
            "Epoch 69/150\n",
            "28/28 [==============================] - 0s 3ms/step - loss: 0.3736 - accuracy: 0.8418\n",
            "Epoch 70/150\n",
            "28/28 [==============================] - 0s 2ms/step - loss: 0.3832 - accuracy: 0.8361\n",
            "Epoch 71/150\n",
            "28/28 [==============================] - 0s 2ms/step - loss: 0.3893 - accuracy: 0.8294\n",
            "Epoch 72/150\n",
            "28/28 [==============================] - 0s 2ms/step - loss: 0.3799 - accuracy: 0.8316\n",
            "Epoch 73/150\n",
            "28/28 [==============================] - 0s 2ms/step - loss: 0.3822 - accuracy: 0.8260\n",
            "Epoch 74/150\n",
            "28/28 [==============================] - 0s 2ms/step - loss: 0.3793 - accuracy: 0.8418\n",
            "Epoch 75/150\n",
            "28/28 [==============================] - 0s 2ms/step - loss: 0.3866 - accuracy: 0.8384\n",
            "Epoch 76/150\n",
            "28/28 [==============================] - 0s 2ms/step - loss: 0.3849 - accuracy: 0.8451\n",
            "Epoch 77/150\n",
            "28/28 [==============================] - 0s 2ms/step - loss: 0.3744 - accuracy: 0.8418\n",
            "Epoch 78/150\n",
            "28/28 [==============================] - 0s 2ms/step - loss: 0.3833 - accuracy: 0.8440\n",
            "Epoch 79/150\n",
            "28/28 [==============================] - 0s 2ms/step - loss: 0.3844 - accuracy: 0.8361\n",
            "Epoch 80/150\n",
            "28/28 [==============================] - 0s 2ms/step - loss: 0.3822 - accuracy: 0.8395\n",
            "Epoch 81/150\n",
            "28/28 [==============================] - 0s 2ms/step - loss: 0.3789 - accuracy: 0.8328\n",
            "Epoch 82/150\n",
            "28/28 [==============================] - 0s 2ms/step - loss: 0.3855 - accuracy: 0.8361\n",
            "Epoch 83/150\n",
            "28/28 [==============================] - 0s 3ms/step - loss: 0.3743 - accuracy: 0.8429\n",
            "Epoch 84/150\n",
            "28/28 [==============================] - 0s 2ms/step - loss: 0.3813 - accuracy: 0.8418\n",
            "Epoch 85/150\n",
            "28/28 [==============================] - 0s 2ms/step - loss: 0.3784 - accuracy: 0.8485\n",
            "Epoch 86/150\n",
            "28/28 [==============================] - 0s 2ms/step - loss: 0.3666 - accuracy: 0.8418\n",
            "Epoch 87/150\n",
            "28/28 [==============================] - 0s 2ms/step - loss: 0.3685 - accuracy: 0.8429\n",
            "Epoch 88/150\n",
            "28/28 [==============================] - 0s 2ms/step - loss: 0.3803 - accuracy: 0.8440\n",
            "Epoch 89/150\n",
            "28/28 [==============================] - 0s 2ms/step - loss: 0.3771 - accuracy: 0.8361\n",
            "Epoch 90/150\n",
            "28/28 [==============================] - 0s 2ms/step - loss: 0.3725 - accuracy: 0.8507\n",
            "Epoch 91/150\n",
            "28/28 [==============================] - 0s 2ms/step - loss: 0.3725 - accuracy: 0.8429\n",
            "Epoch 92/150\n",
            "28/28 [==============================] - 0s 2ms/step - loss: 0.3646 - accuracy: 0.8474\n",
            "Epoch 93/150\n",
            "28/28 [==============================] - 0s 2ms/step - loss: 0.3829 - accuracy: 0.8406\n",
            "Epoch 94/150\n",
            "28/28 [==============================] - 0s 2ms/step - loss: 0.3812 - accuracy: 0.8406\n",
            "Epoch 95/150\n",
            "28/28 [==============================] - 0s 2ms/step - loss: 0.3783 - accuracy: 0.8406\n",
            "Epoch 96/150\n",
            "28/28 [==============================] - 0s 2ms/step - loss: 0.3678 - accuracy: 0.8440\n",
            "Epoch 97/150\n",
            "28/28 [==============================] - 0s 2ms/step - loss: 0.3590 - accuracy: 0.8519\n",
            "Epoch 98/150\n",
            "28/28 [==============================] - 0s 2ms/step - loss: 0.3732 - accuracy: 0.8451\n",
            "Epoch 99/150\n",
            "28/28 [==============================] - 0s 2ms/step - loss: 0.3656 - accuracy: 0.8575\n",
            "Epoch 100/150\n",
            "28/28 [==============================] - 0s 2ms/step - loss: 0.3758 - accuracy: 0.8485\n",
            "Epoch 101/150\n",
            "28/28 [==============================] - 0s 2ms/step - loss: 0.3788 - accuracy: 0.8440\n",
            "Epoch 102/150\n",
            "28/28 [==============================] - 0s 3ms/step - loss: 0.3742 - accuracy: 0.8451\n",
            "Epoch 103/150\n",
            "28/28 [==============================] - 0s 2ms/step - loss: 0.3765 - accuracy: 0.8395\n",
            "Epoch 104/150\n",
            "28/28 [==============================] - 0s 2ms/step - loss: 0.3672 - accuracy: 0.8563\n",
            "Epoch 105/150\n",
            "28/28 [==============================] - 0s 2ms/step - loss: 0.3649 - accuracy: 0.8406\n",
            "Epoch 106/150\n",
            "28/28 [==============================] - 0s 2ms/step - loss: 0.3753 - accuracy: 0.8305\n",
            "Epoch 107/150\n",
            "28/28 [==============================] - 0s 2ms/step - loss: 0.3669 - accuracy: 0.8429\n",
            "Epoch 108/150\n",
            "28/28 [==============================] - 0s 2ms/step - loss: 0.3645 - accuracy: 0.8451\n",
            "Epoch 109/150\n",
            "28/28 [==============================] - 0s 2ms/step - loss: 0.3708 - accuracy: 0.8361\n",
            "Epoch 110/150\n",
            "28/28 [==============================] - 0s 2ms/step - loss: 0.3688 - accuracy: 0.8451\n",
            "Epoch 111/150\n",
            "28/28 [==============================] - 0s 2ms/step - loss: 0.3638 - accuracy: 0.8395\n",
            "Epoch 112/150\n",
            "28/28 [==============================] - 0s 2ms/step - loss: 0.3707 - accuracy: 0.8440\n",
            "Epoch 113/150\n",
            "28/28 [==============================] - 0s 2ms/step - loss: 0.3721 - accuracy: 0.8474\n",
            "Epoch 114/150\n",
            "28/28 [==============================] - 0s 2ms/step - loss: 0.3700 - accuracy: 0.8406\n",
            "Epoch 115/150\n",
            "28/28 [==============================] - 0s 2ms/step - loss: 0.3643 - accuracy: 0.8429\n",
            "Epoch 116/150\n",
            "28/28 [==============================] - 0s 2ms/step - loss: 0.3702 - accuracy: 0.8406\n",
            "Epoch 117/150\n",
            "28/28 [==============================] - 0s 3ms/step - loss: 0.3617 - accuracy: 0.8474\n",
            "Epoch 118/150\n",
            "28/28 [==============================] - 0s 2ms/step - loss: 0.3669 - accuracy: 0.8462\n",
            "Epoch 119/150\n",
            "28/28 [==============================] - 0s 2ms/step - loss: 0.3623 - accuracy: 0.8429\n",
            "Epoch 120/150\n",
            "28/28 [==============================] - 0s 2ms/step - loss: 0.3698 - accuracy: 0.8384\n",
            "Epoch 121/150\n",
            "28/28 [==============================] - 0s 2ms/step - loss: 0.3619 - accuracy: 0.8485\n",
            "Epoch 122/150\n",
            "28/28 [==============================] - 0s 2ms/step - loss: 0.3653 - accuracy: 0.8462\n",
            "Epoch 123/150\n",
            "28/28 [==============================] - 0s 2ms/step - loss: 0.3644 - accuracy: 0.8384\n",
            "Epoch 124/150\n",
            "28/28 [==============================] - 0s 2ms/step - loss: 0.3571 - accuracy: 0.8440\n",
            "Epoch 125/150\n",
            "28/28 [==============================] - 0s 2ms/step - loss: 0.3645 - accuracy: 0.8418\n",
            "Epoch 126/150\n",
            "28/28 [==============================] - 0s 2ms/step - loss: 0.3668 - accuracy: 0.8406\n",
            "Epoch 127/150\n",
            "28/28 [==============================] - 0s 2ms/step - loss: 0.3628 - accuracy: 0.8418\n",
            "Epoch 128/150\n",
            "28/28 [==============================] - 0s 2ms/step - loss: 0.3575 - accuracy: 0.8485\n",
            "Epoch 129/150\n",
            "28/28 [==============================] - 0s 2ms/step - loss: 0.3561 - accuracy: 0.8406\n",
            "Epoch 130/150\n",
            "28/28 [==============================] - 0s 2ms/step - loss: 0.3644 - accuracy: 0.8474\n",
            "Epoch 131/150\n",
            "28/28 [==============================] - 0s 2ms/step - loss: 0.3605 - accuracy: 0.8485\n",
            "Epoch 132/150\n",
            "28/28 [==============================] - 0s 3ms/step - loss: 0.3622 - accuracy: 0.8474\n",
            "Epoch 133/150\n",
            "28/28 [==============================] - 0s 2ms/step - loss: 0.3573 - accuracy: 0.8462\n",
            "Epoch 134/150\n",
            "28/28 [==============================] - 0s 3ms/step - loss: 0.3741 - accuracy: 0.8474\n",
            "Epoch 135/150\n",
            "28/28 [==============================] - 0s 2ms/step - loss: 0.3592 - accuracy: 0.8507\n",
            "Epoch 136/150\n",
            "28/28 [==============================] - 0s 2ms/step - loss: 0.3682 - accuracy: 0.8462\n",
            "Epoch 137/150\n",
            "28/28 [==============================] - 0s 2ms/step - loss: 0.3655 - accuracy: 0.8395\n",
            "Epoch 138/150\n",
            "28/28 [==============================] - 0s 2ms/step - loss: 0.3630 - accuracy: 0.8440\n",
            "Epoch 139/150\n",
            "28/28 [==============================] - 0s 3ms/step - loss: 0.3627 - accuracy: 0.8507\n",
            "Epoch 140/150\n",
            "28/28 [==============================] - 0s 2ms/step - loss: 0.3580 - accuracy: 0.8530\n",
            "Epoch 141/150\n",
            "28/28 [==============================] - 0s 2ms/step - loss: 0.3686 - accuracy: 0.8496\n",
            "Epoch 142/150\n",
            "28/28 [==============================] - 0s 2ms/step - loss: 0.3587 - accuracy: 0.8530\n",
            "Epoch 143/150\n",
            "28/28 [==============================] - 0s 2ms/step - loss: 0.3669 - accuracy: 0.8451\n",
            "Epoch 144/150\n",
            "28/28 [==============================] - 0s 2ms/step - loss: 0.3566 - accuracy: 0.8440\n",
            "Epoch 145/150\n",
            "28/28 [==============================] - 0s 2ms/step - loss: 0.3574 - accuracy: 0.8462\n",
            "Epoch 146/150\n",
            "28/28 [==============================] - 0s 3ms/step - loss: 0.3586 - accuracy: 0.8563\n",
            "Epoch 147/150\n",
            "28/28 [==============================] - 0s 2ms/step - loss: 0.3563 - accuracy: 0.8451\n",
            "Epoch 148/150\n",
            "28/28 [==============================] - 0s 2ms/step - loss: 0.3632 - accuracy: 0.8507\n",
            "Epoch 149/150\n",
            "28/28 [==============================] - 0s 2ms/step - loss: 0.3553 - accuracy: 0.8440\n",
            "Epoch 150/150\n",
            "28/28 [==============================] - 0s 2ms/step - loss: 0.3656 - accuracy: 0.8339\n"
          ]
        },
        {
          "output_type": "execute_result",
          "data": {
            "text/plain": [
              "<keras.callbacks.History at 0x7f1621157250>"
            ]
          },
          "metadata": {},
          "execution_count": 199
        }
      ]
    },
    {
      "cell_type": "markdown",
      "metadata": {
        "id": "NmH6zP5dHqcg"
      },
      "source": [
        "----------------Test---------------------\n"
      ]
    },
    {
      "cell_type": "code",
      "metadata": {
        "id": "2cNuw1I4sSOj"
      },
      "source": [
        "dt = pd.read_csv('/content/drive/MyDrive/Colab Notebooks/Dataset/Titanic dataset/test.csv')"
      ],
      "execution_count": 236,
      "outputs": []
    },
    {
      "cell_type": "code",
      "metadata": {
        "id": "KG6FMCOdRIFS"
      },
      "source": [
        "fillMissingAgeValueByNameTitles(dt)"
      ],
      "execution_count": 237,
      "outputs": []
    },
    {
      "cell_type": "code",
      "metadata": {
        "id": "FVrFUypjwaiP"
      },
      "source": [
        "dt['Age_group'] = dt.apply(group_age_range,1)\n",
        "dt['Family_Size']=dt['SibSp']+dt['Parch']\n",
        "dt['Embarked'] = dt['Embarked'].fillna(df['Embarked'].value_counts().idxmax())"
      ],
      "execution_count": 239,
      "outputs": []
    },
    {
      "cell_type": "code",
      "metadata": {
        "id": "yuWY12yqxKbA"
      },
      "source": [
        "X_test = column_transform.fit_transform(dt)"
      ],
      "execution_count": 240,
      "outputs": []
    },
    {
      "cell_type": "code",
      "metadata": {
        "id": "sMvC3HzpwjoX"
      },
      "source": [
        "my_pr = NB.predict(X_test)"
      ],
      "execution_count": 21,
      "outputs": []
    },
    {
      "cell_type": "code",
      "metadata": {
        "id": "c4ygo7V7GG5f"
      },
      "source": [
        "my_pr = SVM.predict(X_test)"
      ],
      "execution_count": 241,
      "outputs": []
    },
    {
      "cell_type": "code",
      "metadata": {
        "id": "ib7RqKAKM-iX"
      },
      "source": [
        "my_pr = MLP.predict(X_test)"
      ],
      "execution_count": 151,
      "outputs": []
    },
    {
      "cell_type": "markdown",
      "metadata": {
        "id": "Xnpk1gAq2bM7"
      },
      "source": [
        "DNN from Keras"
      ]
    },
    {
      "cell_type": "code",
      "metadata": {
        "id": "3jKVbKrt2Zf-"
      },
      "source": [
        "my_pr = model.predict(X_test)\n",
        "my_pr = np.round(my_pr).astype(int)"
      ],
      "execution_count": 222,
      "outputs": []
    },
    {
      "cell_type": "markdown",
      "metadata": {
        "id": "_SdrErqdHu6o"
      },
      "source": [
        "Export result to csv file"
      ]
    },
    {
      "cell_type": "code",
      "metadata": {
        "id": "dRecjYh_y4W8"
      },
      "source": [
        "re = pd.DataFrame()"
      ],
      "execution_count": 242,
      "outputs": []
    },
    {
      "cell_type": "code",
      "metadata": {
        "id": "IL0Yy4Ggw7qP"
      },
      "source": [
        "re['PassengerId'] = dt['PassengerId']\n",
        "re['Survived'] = pd.DataFrame(my_pr)"
      ],
      "execution_count": 243,
      "outputs": []
    },
    {
      "cell_type": "code",
      "metadata": {
        "colab": {
          "base_uri": "https://localhost:8080/",
          "height": 424
        },
        "id": "Kjx075ZqzF-O",
        "outputId": "9ed27008-da85-47fb-e75b-4c5ea470344e"
      },
      "source": [
        "re"
      ],
      "execution_count": 244,
      "outputs": [
        {
          "output_type": "execute_result",
          "data": {
            "text/html": [
              "<div>\n",
              "<style scoped>\n",
              "    .dataframe tbody tr th:only-of-type {\n",
              "        vertical-align: middle;\n",
              "    }\n",
              "\n",
              "    .dataframe tbody tr th {\n",
              "        vertical-align: top;\n",
              "    }\n",
              "\n",
              "    .dataframe thead th {\n",
              "        text-align: right;\n",
              "    }\n",
              "</style>\n",
              "<table border=\"1\" class=\"dataframe\">\n",
              "  <thead>\n",
              "    <tr style=\"text-align: right;\">\n",
              "      <th></th>\n",
              "      <th>PassengerId</th>\n",
              "      <th>Survived</th>\n",
              "    </tr>\n",
              "  </thead>\n",
              "  <tbody>\n",
              "    <tr>\n",
              "      <th>0</th>\n",
              "      <td>892</td>\n",
              "      <td>0</td>\n",
              "    </tr>\n",
              "    <tr>\n",
              "      <th>1</th>\n",
              "      <td>893</td>\n",
              "      <td>1</td>\n",
              "    </tr>\n",
              "    <tr>\n",
              "      <th>2</th>\n",
              "      <td>894</td>\n",
              "      <td>0</td>\n",
              "    </tr>\n",
              "    <tr>\n",
              "      <th>3</th>\n",
              "      <td>895</td>\n",
              "      <td>0</td>\n",
              "    </tr>\n",
              "    <tr>\n",
              "      <th>4</th>\n",
              "      <td>896</td>\n",
              "      <td>0</td>\n",
              "    </tr>\n",
              "    <tr>\n",
              "      <th>...</th>\n",
              "      <td>...</td>\n",
              "      <td>...</td>\n",
              "    </tr>\n",
              "    <tr>\n",
              "      <th>413</th>\n",
              "      <td>1305</td>\n",
              "      <td>0</td>\n",
              "    </tr>\n",
              "    <tr>\n",
              "      <th>414</th>\n",
              "      <td>1306</td>\n",
              "      <td>1</td>\n",
              "    </tr>\n",
              "    <tr>\n",
              "      <th>415</th>\n",
              "      <td>1307</td>\n",
              "      <td>0</td>\n",
              "    </tr>\n",
              "    <tr>\n",
              "      <th>416</th>\n",
              "      <td>1308</td>\n",
              "      <td>0</td>\n",
              "    </tr>\n",
              "    <tr>\n",
              "      <th>417</th>\n",
              "      <td>1309</td>\n",
              "      <td>1</td>\n",
              "    </tr>\n",
              "  </tbody>\n",
              "</table>\n",
              "<p>418 rows × 2 columns</p>\n",
              "</div>"
            ],
            "text/plain": [
              "     PassengerId  Survived\n",
              "0            892         0\n",
              "1            893         1\n",
              "2            894         0\n",
              "3            895         0\n",
              "4            896         0\n",
              "..           ...       ...\n",
              "413         1305         0\n",
              "414         1306         1\n",
              "415         1307         0\n",
              "416         1308         0\n",
              "417         1309         1\n",
              "\n",
              "[418 rows x 2 columns]"
            ]
          },
          "metadata": {},
          "execution_count": 244
        }
      ]
    },
    {
      "cell_type": "code",
      "metadata": {
        "id": "UgZEosecyCc8"
      },
      "source": [
        "re.to_csv('myPredict.csv',index=False)"
      ],
      "execution_count": 245,
      "outputs": []
    },
    {
      "cell_type": "code",
      "metadata": {
        "id": "9pXScz16NDC7"
      },
      "source": [
        ""
      ],
      "execution_count": null,
      "outputs": []
    }
  ]
}